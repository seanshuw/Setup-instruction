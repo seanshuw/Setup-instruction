{
 "cells": [
  {
   "cell_type": "markdown",
   "metadata": {
    "colab_type": "text",
    "id": "9aWqEMoWJbK6"
   },
   "source": [
    "In 2019, Microsoft developed a **Windows Subsystem for Linux**, including most command-line tools, utilities, and applications. The new version of WSL is also super helpful and easy to use."
   ]
  },
  {
   "cell_type": "markdown",
   "metadata": {
    "colab_type": "text",
    "id": "CA--KHVRJcI7"
   },
   "source": [
    "However, if you prefer the oldschool virtual machines for Linux or the sense of actually seeing the Linux interface, you can use this tutorial to setup Linux-CentOS using Hyper-V that only available in win10 pro. "
   ]
  },
  {
   "cell_type": "markdown",
   "metadata": {
    "colab_type": "text",
    "id": "6GX9I_nt6A2J"
   },
   "source": [
    "# Download CentOS"
   ]
  },
  {
   "cell_type": "markdown",
   "metadata": {
    "colab_type": "text",
    "id": "Z_17H9r86GNv"
   },
   "source": [
    "+ Click [CentOS](https://www.centos.org/download/), and download the ISO file. There are three options listed, DVD ISO, Minimal ISO and Everything ISO.  "
   ]
  },
  {
   "cell_type": "markdown",
   "metadata": {
    "colab_type": "text",
    "id": "wdcYjp3L686R"
   },
   "source": [
    "+ I downloaded the Everthing ISO file for CentOS 7 x86_64, which was about 9.6 G."
   ]
  },
  {
   "cell_type": "markdown",
   "metadata": {
    "colab_type": "text",
    "id": "KZiYLKfDeGy4"
   },
   "source": [
    "# Hyper-V setup\n"
   ]
  },
  {
   "cell_type": "markdown",
   "metadata": {
    "colab_type": "text",
    "id": "IUF9Wmuiel8V"
   },
   "source": [
    "## Windows Pro Upgrade\n"
   ]
  },
  {
   "cell_type": "markdown",
   "metadata": {
    "colab_type": "text",
    "id": "qKEcBDIbexEq"
   },
   "source": [
    "+ Hyper-V is not available in **Windows 10 Home Edition**. So before using Hyper V, you need to upgrade to **Windows 10 Pro and Enterprise editions**. Windows 10 home users will have to stick to VMware Workstation or VirtualBox.\n"
   ]
  },
  {
   "cell_type": "markdown",
   "metadata": {
    "colab_type": "text",
    "id": "J17sIaNuxl0M"
   },
   "source": [
    "## Enable Hyper-V in Windows 10"
   ]
  },
  {
   "cell_type": "markdown",
   "metadata": {
    "colab_type": "text",
    "id": "wxRakeeXx2DH"
   },
   "source": [
    "+ Go to **Start Menu** and Click **Settings**."
   ]
  },
  {
   "cell_type": "markdown",
   "metadata": {
    "colab_type": "text",
    "id": "p-VTsDL8yMIe"
   },
   "source": [
    "+ Under Apps & features, click **Programs and Features**.![替代文字](https://www.shaileshjha.com/wp-content/uploads/2017/03/windows_10_apps_and_features-1024x801.jpg)"
   ]
  },
  {
   "cell_type": "markdown",
   "metadata": {
    "colab_type": "text",
    "id": "ZBXDvhvPy3xG"
   },
   "source": [
    "+ Find Turn **Windows Feature On or off.**![替代文字](https://www.shaileshjha.com/wp-content/uploads/2017/03/windows_10_program_and_features_turn_feature_on_off-1024x284.jpg)"
   ]
  },
  {
   "cell_type": "markdown",
   "metadata": {
    "colab_type": "text",
    "id": "Rch7lM-kzMP6"
   },
   "source": [
    "+ Check **Hyper-V options** in the **Turn Windows features on or off dialog box**.![替代文字](https://www.shaileshjha.com/wp-content/uploads/2017/03/windows_10_Windows_features_turn_on_or_off_screenshot.jpg\n",
    ")"
   ]
  },
  {
   "cell_type": "markdown",
   "metadata": {
    "colab_type": "text",
    "id": "CI0pFRt01Apu"
   },
   "source": [
    "+ Wait for the process to complete, and restart your computer at the end."
   ]
  },
  {
   "cell_type": "markdown",
   "metadata": {
    "colab_type": "text",
    "id": "EDrNlRjX1ct8"
   },
   "source": [
    "## Enable Virtualization Technology either Intel VT-x or AMD-V"
   ]
  },
  {
   "cell_type": "markdown",
   "metadata": {
    "colab_type": "text",
    "id": "pyOSzTR51_sA"
   },
   "source": [
    "+ If you found one of the Hyper-V check box is not working (gray), you will have to enable the Virtualization Technology. To enable Hyper-V correctly, system must have **Virtualization Technology** Enabled in BIOS. Here is a basic setup for it. [Virtualization Technology](https://www.shaileshjha.com/step-by-step-guide-to-enable-intel-vt-x-or-amd-v-in-bios-or-uefi-in-windows-10-and-windows-8/)"
   ]
  },
  {
   "cell_type": "markdown",
   "metadata": {
    "colab_type": "text",
    "id": "jT99aX5D24zi"
   },
   "source": [
    "## Create Network Connection"
   ]
  },
  {
   "cell_type": "markdown",
   "metadata": {
    "colab_type": "text",
    "id": "GLW5mSuH3pU4"
   },
   "source": [
    "+ Open Hyper-V manager.\n",
    "\n",
    "+ Click **Virtual Switch Manager** under **Actions.**\n",
    "\n",
    "![替代文字](https://www.shaileshjha.com/wp-content/uploads/2017/09/hyper_v_virtual_switch_manager.jpg)"
   ]
  },
  {
   "cell_type": "markdown",
   "metadata": {
    "colab_type": "text",
    "id": "lfIfME7P4Lpf"
   },
   "source": [
    "+ Select **External** and click on **create virtual switch.**\n",
    "\n",
    "![替代文字](https://www.shaileshjha.com/wp-content/uploads/2017/09/Hyper_V_manager_virtual_switch_manager_create_switch.jpg)"
   ]
  },
  {
   "cell_type": "markdown",
   "metadata": {
    "colab_type": "text",
    "id": "ALT5soSt4MHo"
   },
   "source": [
    "+ Under **Virtual Switch Properties**, you can change the name of the virtual switch, and select **Ethernet** card for Connection type. Click on Ok to continue. \n",
    "![替代文字](https://www.shaileshjha.com/wp-content/uploads/2017/09/Hyper_V_manager_virtual_switch_properties.jpg)\n"
   ]
  },
  {
   "cell_type": "markdown",
   "metadata": {
    "colab_type": "text",
    "id": "9T8P8zC_4Mcx"
   },
   "source": [
    "## Create Virtual Machine"
   ]
  },
  {
   "cell_type": "markdown",
   "metadata": {
    "colab_type": "text",
    "id": "hKjkgUX94MnJ"
   },
   "source": [
    "+ Click **New -> Virtual Machine**.\n",
    "![替代文字](https://www.shaileshjha.com/wp-content/uploads/2017/08/Hyper_V_manager-1024x576.jpg)"
   ]
  },
  {
   "cell_type": "markdown",
   "metadata": {
    "colab_type": "text",
    "id": "_QA8n5gp4Mtx"
   },
   "source": [
    "+ Enter the name of your Virtual Machine.\n",
    "![替代文字](https://www.shaileshjha.com/wp-content/uploads/2017/08/Hyper_V_manager_New_Virtual_Machine_Wizard_Specify_name_and_location_screenshot.jpg)"
   ]
  },
  {
   "cell_type": "markdown",
   "metadata": {
    "colab_type": "text",
    "id": "RCpvbS8R4Mw2"
   },
   "source": [
    "+ You can create two versions of Virtual Machines. The difference oftwo generatin can be found here. [Gen1 vs Gen2](https://www.nakivo.com/blog/hyper-v-generation-1-vs-2/)\n",
    "\n",
    "+ I used **Generation 1** for this setup. \n",
    "![替代文字](https://www.shaileshjha.com/wp-content/uploads/2017/09/Hyper_V_manager_New_Virtual_Machine_Wizard_Specify_generation_screenshot.jpg)"
   ]
  },
  {
   "cell_type": "markdown",
   "metadata": {
    "colab_type": "text",
    "id": "u1QISvzT7dOW"
   },
   "source": [
    "+ Assign memory for your virtual machine. I recommend more than 2GB (2048 MB). Also check the **Use Dynamic Memory for this Virtual Machine**.\n",
    "\n",
    "![替代文字](https://www.shaileshjha.com/wp-content/uploads/2017/09/Hyper_V_manager_New_Virtual_Machine_Wizard_assign_memory_screenshot.jpg)"
   ]
  },
  {
   "cell_type": "markdown",
   "metadata": {
    "colab_type": "text",
    "id": "KXzti-m77dQl"
   },
   "source": [
    "+ Configure your network. \n",
    "\n",
    "![替代文字](https://www.shaileshjha.com/wp-content/uploads/2017/09/Hyper_V_manager_New_Virtual_Machine_Wizard_configure_network_screenshot.jpg)"
   ]
  },
  {
   "cell_type": "markdown",
   "metadata": {
    "colab_type": "text",
    "id": "pAOzX5bq7dSx"
   },
   "source": [
    "+ Connect Virtual Hard Disk. For CentOS, I recommend about **60 GB** of disk space. \n",
    "![替代文字](https://www.shaileshjha.com/wp-content/uploads/2017/09/Hyper_V_manager_New_Virtual_Machine_Wizard_connect_virtual_hard_disk_screenshot.jpg)"
   ]
  },
  {
   "cell_type": "markdown",
   "metadata": {
    "colab_type": "text",
    "id": "vZUDHZ5S7dVG"
   },
   "source": [
    "+ Choose to install an operating system from a **bootable CD/DVD-ROM**, and locate the downloaded .iso file for CentOS.\n",
    "\n",
    "![替代文字](https://linuxhint.com/wp-content/uploads/2018/07/c8.png)"
   ]
  },
  {
   "cell_type": "markdown",
   "metadata": {
    "colab_type": "text",
    "id": "YgEFwpXv7dXi"
   },
   "source": [
    "+ Complete the New Virtual Machine Wizard.\n",
    "\n",
    "\n"
   ]
  },
  {
   "cell_type": "markdown",
   "metadata": {
    "colab_type": "text",
    "id": "zal4iRRM-tLJ"
   },
   "source": [
    "## Virtual Machine Settings"
   ]
  },
  {
   "cell_type": "markdown",
   "metadata": {
    "colab_type": "text",
    "id": "UX1h3rcP-tNp"
   },
   "source": [
    "+ After creating the virtual machine, you can change settings by clicking the virtual machine.\n",
    "![替代文字](https://www.shaileshjha.com/wp-content/uploads/2017/09/Hyper_V_manager_settings-768x432.jpg)\n"
   ]
  },
  {
   "cell_type": "markdown",
   "metadata": {
    "colab_type": "text",
    "id": "WN4dChQ6-tQb"
   },
   "source": [
    "+ You can also set the number of **virtual processor**. Normally I set it to 2. \n",
    "![替代文字](https://www.shaileshjha.com/wp-content/uploads/2017/09/Hyper_V_settings_processors-768x734.jpg)\n"
   ]
  },
  {
   "cell_type": "markdown",
   "metadata": {
    "colab_type": "text",
    "id": "tYs9KGz1-tTF"
   },
   "source": [
    "+ Unfortunately, **RemoteFX 3D Video Adapter** is not aviable now, so you cannot access the power of you GPU.\n",
    "![替代文字](https://www.shaileshjha.com/wp-content/uploads/2019/02/hyper_v_settings_add_hardware_screenshot.jpg)\n",
    "\n"
   ]
  },
  {
   "cell_type": "markdown",
   "metadata": {
    "colab_type": "text",
    "id": "X1V2GuMoA8qP"
   },
   "source": [
    "# CentOS setup"
   ]
  },
  {
   "cell_type": "markdown",
   "metadata": {
    "colab_type": "text",
    "id": "l62yL_zcA89B"
   },
   "source": [
    "+ Now start the Virtual Machine.\n",
    "\n",
    "![替代文字](https://www.shaileshjha.com/wp-content/uploads/2019/04/hyper_v_centos_connection.jpg)\n"
   ]
  },
  {
   "cell_type": "markdown",
   "metadata": {
    "colab_type": "text",
    "id": "3WVKykafA9Am"
   },
   "source": [
    "+ When you see this screen, Press **\"i\"** and then **enter**.\n",
    "\n",
    "![替代文字](https://www.shaileshjha.com/wp-content/uploads/2019/04/centos_installation_options.jpg)"
   ]
  },
  {
   "cell_type": "markdown",
   "metadata": {
    "colab_type": "text",
    "id": "F8pGbSJHA9D8"
   },
   "source": [
    "+ Follow the CentOS instructions. For **Software Selection**, select **Gnome Desktop** as shown below. Then begin installation.\n",
    "\n",
    "![替代文字](https://www.shaileshjha.com/wp-content/uploads/2018/07/centos_setup_software_selection_base_environment-768x577.jpg)"
   ]
  },
  {
   "cell_type": "markdown",
   "metadata": {
    "colab_type": "text",
    "id": "rppnB5kCA9Gk"
   },
   "source": [
    "+ Set your user name and root password. \n",
    "\n",
    "![替代文字](https://www.shaileshjha.com/wp-content/uploads/2018/07/centos_setup_configuration_user_settings-768x580.jpg)"
   ]
  },
  {
   "cell_type": "markdown",
   "metadata": {
    "colab_type": "text",
    "id": "-dyBJXNPCgxG"
   },
   "source": [
    "+ Once the system setup is finished, you can change keyboard options, languages, and internet, etc.\n",
    "\n",
    "![替代文字](https://www.shaileshjha.com/wp-content/uploads/2019/04/centos_network_and_hostname_configuration-768x576.jpg)\n",
    "\n",
    "![替代文字](https://www.shaileshjha.com/wp-content/uploads/2018/08/CentOS_Installation_keyboard_setup-768x432.jpg)\n",
    "\n",
    "![替代文字](https://www.shaileshjha.com/wp-content/uploads/2019/04/centos_desktop-768x576.jpg)"
   ]
  },
  {
   "cell_type": "markdown",
   "metadata": {
    "colab_type": "text",
    "id": "G2k1dzhWCgzd"
   },
   "source": [
    "# Install Anaconda "
   ]
  },
  {
   "cell_type": "markdown",
   "metadata": {
    "colab_type": "text",
    "id": "XI4LBcl7Cg1u"
   },
   "source": [
    "+ Download the Latest Anaconda Version [here](https://www.anaconda.com/products/individual). "
   ]
  },
  {
   "cell_type": "markdown",
   "metadata": {
    "colab_type": "text",
    "id": "RrJip_3-Cg4P"
   },
   "source": [
    "+ Locate to this download file. I stored it at Downloads. \n",
    "\n",
    "\n",
    "```\n",
    "# cd Downloads\n",
    "```\n",
    "\n"
   ]
  },
  {
   "cell_type": "markdown",
   "metadata": {
    "colab_type": "text",
    "id": "cW5ZvyRVChJc"
   },
   "source": [
    "+ Then install the .sh file.\n",
    "\n",
    "\n",
    "\n",
    "```\n",
    "# bash Anaconda3-2020.07-Linux-x86_64.sh\n",
    "```\n",
    "\n"
   ]
  },
  {
   "cell_type": "markdown",
   "metadata": {
    "colab_type": "text",
    "id": "aMyJg1t_ChHN"
   },
   "source": [
    "+ To open the Anaconda navigator.\n",
    "\n",
    "\n",
    "\n",
    "```\n",
    "# anconda-navigator\n",
    "```\n",
    "\n"
   ]
  },
  {
   "cell_type": "markdown",
   "metadata": {
    "colab_type": "text",
    "id": "XcEowhcbChFB"
   },
   "source": [
    "## Install Git"
   ]
  },
  {
   "cell_type": "markdown",
   "metadata": {
    "colab_type": "text",
    "id": "MgVwDjJ0ChCk"
   },
   "source": [
    "+ Switch to root user.\n",
    "\n",
    "\n",
    "```\n",
    "# sudo -i\n",
    "```\n",
    "\n"
   ]
  },
  {
   "cell_type": "markdown",
   "metadata": {
    "colab_type": "text",
    "id": "9YlIIzYNCg-0"
   },
   "source": [
    "+ install git for Linux.\n",
    "\n",
    "\n",
    "```\n",
    "# yum install git\n",
    "```\n",
    "\n"
   ]
  },
  {
   "cell_type": "markdown",
   "metadata": {
    "colab_type": "text",
    "id": "KwEqz6hlCg9J"
   },
   "source": [
    "+ Check git version.\n",
    "\n",
    "\n",
    "```\n",
    "# git version\n",
    "```\n",
    "\n"
   ]
  }
 ],
 "metadata": {
  "colab": {
   "authorship_tag": "ABX9TyOcLFXYAPjjY8GsPicdsXFZ",
   "collapsed_sections": [],
   "name": "CentOS .ipynb",
   "provenance": []
  },
  "kernelspec": {
   "display_name": "Python 3",
   "language": "python",
   "name": "python3"
  },
  "language_info": {
   "codemirror_mode": {
    "name": "ipython",
    "version": 3
   },
   "file_extension": ".py",
   "mimetype": "text/x-python",
   "name": "python",
   "nbconvert_exporter": "python",
   "pygments_lexer": "ipython3",
   "version": "3.6.10"
  }
 },
 "nbformat": 4,
 "nbformat_minor": 1
}
